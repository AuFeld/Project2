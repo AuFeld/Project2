{
  "nbformat": 4,
  "nbformat_minor": 0,
  "metadata": {
    "kernelspec": {
      "display_name": "Python 3",
      "language": "python",
      "name": "python3"
    },
    "language_info": {
      "codemirror_mode": {
        "name": "ipython",
        "version": 3
      },
      "file_extension": ".py",
      "mimetype": "text/x-python",
      "name": "python",
      "nbconvert_exporter": "python",
      "pygments_lexer": "ipython3",
      "version": "3.7.4"
    },
    "colab": {
      "name": "Project_2.1.ipynb",
      "provenance": [],
      "collapsed_sections": [],
      "include_colab_link": true
    }
  },
  "cells": [
    {
      "cell_type": "markdown",
      "metadata": {
        "id": "view-in-github",
        "colab_type": "text"
      },
      "source": [
        "<a href=\"https://colab.research.google.com/github/AuFeld/Project2/blob/master/notebooks/Project_2_2.ipynb\" target=\"_parent\"><img src=\"https://colab.research.google.com/assets/colab-badge.svg\" alt=\"Open In Colab\"/></a>"
      ]
    },
    {
      "cell_type": "code",
      "metadata": {
        "id": "xJzN8XWEaDv1",
        "colab_type": "code",
        "colab": {}
      },
      "source": [
        "DATA_PATH = 'Project_2_Data.xlsx'"
      ],
      "execution_count": 0,
      "outputs": []
    },
    {
      "cell_type": "code",
      "metadata": {
        "id": "cdo4ZUOy3XWN",
        "colab_type": "code",
        "outputId": "ac5bc607-7a06-41c3-c2bb-8bb1585fe239",
        "colab": {
          "base_uri": "https://localhost:8080/",
          "height": 272
        }
      },
      "source": [
        "pip install category_encoders"
      ],
      "execution_count": 2,
      "outputs": [
        {
          "output_type": "stream",
          "text": [
            "Collecting category_encoders\n",
            "\u001b[?25l  Downloading https://files.pythonhosted.org/packages/a0/52/c54191ad3782de633ea3d6ee3bb2837bda0cf3bc97644bb6375cf14150a0/category_encoders-2.1.0-py2.py3-none-any.whl (100kB)\n",
            "\r\u001b[K     |███▎                            | 10kB 21.0MB/s eta 0:00:01\r\u001b[K     |██████▌                         | 20kB 2.2MB/s eta 0:00:01\r\u001b[K     |█████████▉                      | 30kB 3.2MB/s eta 0:00:01\r\u001b[K     |█████████████                   | 40kB 2.1MB/s eta 0:00:01\r\u001b[K     |████████████████▍               | 51kB 2.6MB/s eta 0:00:01\r\u001b[K     |███████████████████▋            | 61kB 3.1MB/s eta 0:00:01\r\u001b[K     |██████████████████████▉         | 71kB 3.6MB/s eta 0:00:01\r\u001b[K     |██████████████████████████▏     | 81kB 4.0MB/s eta 0:00:01\r\u001b[K     |█████████████████████████████▍  | 92kB 4.5MB/s eta 0:00:01\r\u001b[K     |████████████████████████████████| 102kB 2.9MB/s \n",
            "\u001b[?25hRequirement already satisfied: numpy>=1.11.3 in /usr/local/lib/python3.6/dist-packages (from category_encoders) (1.17.4)\n",
            "Requirement already satisfied: scikit-learn>=0.20.0 in /usr/local/lib/python3.6/dist-packages (from category_encoders) (0.21.3)\n",
            "Requirement already satisfied: statsmodels>=0.6.1 in /usr/local/lib/python3.6/dist-packages (from category_encoders) (0.10.2)\n",
            "Requirement already satisfied: pandas>=0.21.1 in /usr/local/lib/python3.6/dist-packages (from category_encoders) (0.25.3)\n",
            "Requirement already satisfied: patsy>=0.4.1 in /usr/local/lib/python3.6/dist-packages (from category_encoders) (0.5.1)\n",
            "Requirement already satisfied: scipy>=0.19.0 in /usr/local/lib/python3.6/dist-packages (from category_encoders) (1.3.3)\n",
            "Requirement already satisfied: joblib>=0.11 in /usr/local/lib/python3.6/dist-packages (from scikit-learn>=0.20.0->category_encoders) (0.14.1)\n",
            "Requirement already satisfied: pytz>=2017.2 in /usr/local/lib/python3.6/dist-packages (from pandas>=0.21.1->category_encoders) (2018.9)\n",
            "Requirement already satisfied: python-dateutil>=2.6.1 in /usr/local/lib/python3.6/dist-packages (from pandas>=0.21.1->category_encoders) (2.6.1)\n",
            "Requirement already satisfied: six in /usr/local/lib/python3.6/dist-packages (from patsy>=0.4.1->category_encoders) (1.12.0)\n",
            "Installing collected packages: category-encoders\n",
            "Successfully installed category-encoders-2.1.0\n"
          ],
          "name": "stdout"
        }
      ]
    },
    {
      "cell_type": "code",
      "metadata": {
        "id": "F2rYl-nCaDv4",
        "colab_type": "code",
        "colab": {}
      },
      "source": [
        "# import libraries\n",
        "import pandas as pd\n",
        "import pandas_profiling\n",
        "import numpy as np\n",
        "from sklearn.ensemble import RandomForestClassifier\n",
        "from sklearn.impute import SimpleImputer\n",
        "from sklearn.pipeline import make_pipeline\n",
        "from sklearn.linear_model import Ridge\n",
        "from sklearn.linear_model import RidgeCV\n",
        "from sklearn.linear_model import RidgeClassifier\n",
        "from sklearn.linear_model import RidgeClassifierCV\n",
        "from sklearn.metrics import mean_absolute_error\n",
        "import seaborn as sns\n",
        "import matplotlib.pyplot as plt\n",
        "import category_encoders as ce"
      ],
      "execution_count": 0,
      "outputs": []
    },
    {
      "cell_type": "code",
      "metadata": {
        "id": "FNwGJJGYaDv6",
        "colab_type": "code",
        "colab": {}
      },
      "source": [
        "df = pd.read_excel(DATA_PATH)"
      ],
      "execution_count": 0,
      "outputs": []
    },
    {
      "cell_type": "code",
      "metadata": {
        "id": "jCfTBsjdaDv_",
        "colab_type": "code",
        "outputId": "eec479b9-7b07-4c81-86fd-eb469212a030",
        "colab": {
          "base_uri": "https://localhost:8080/",
          "height": 204
        }
      },
      "source": [
        "df.head()"
      ],
      "execution_count": 6,
      "outputs": [
        {
          "output_type": "execute_result",
          "data": {
            "text/html": [
              "<div>\n",
              "<style scoped>\n",
              "    .dataframe tbody tr th:only-of-type {\n",
              "        vertical-align: middle;\n",
              "    }\n",
              "\n",
              "    .dataframe tbody tr th {\n",
              "        vertical-align: top;\n",
              "    }\n",
              "\n",
              "    .dataframe thead th {\n",
              "        text-align: right;\n",
              "    }\n",
              "</style>\n",
              "<table border=\"1\" class=\"dataframe\">\n",
              "  <thead>\n",
              "    <tr style=\"text-align: right;\">\n",
              "      <th></th>\n",
              "      <th>Club</th>\n",
              "      <th>Season</th>\n",
              "      <th>GW_Played</th>\n",
              "      <th>Expenditure</th>\n",
              "      <th>Income</th>\n",
              "      <th>Net</th>\n",
              "      <th>Points</th>\n",
              "      <th>Points_per_GW</th>\n",
              "      <th>Expenditure_per_Point_per_GW</th>\n",
              "      <th>Manager</th>\n",
              "      <th>Owner</th>\n",
              "      <th>Champion</th>\n",
              "      <th>Relegated</th>\n",
              "    </tr>\n",
              "  </thead>\n",
              "  <tbody>\n",
              "    <tr>\n",
              "      <th>0</th>\n",
              "      <td>LIV</td>\n",
              "      <td>2019</td>\n",
              "      <td>18</td>\n",
              "      <td>-2.17</td>\n",
              "      <td>47.42</td>\n",
              "      <td>45.25</td>\n",
              "      <td>49</td>\n",
              "      <td>2.722222</td>\n",
              "      <td>-0.797143</td>\n",
              "      <td>Klopp</td>\n",
              "      <td>Fenway</td>\n",
              "      <td>False</td>\n",
              "      <td>False</td>\n",
              "    </tr>\n",
              "    <tr>\n",
              "      <th>1</th>\n",
              "      <td>LEI</td>\n",
              "      <td>2019</td>\n",
              "      <td>19</td>\n",
              "      <td>-120.95</td>\n",
              "      <td>99.52</td>\n",
              "      <td>-21.43</td>\n",
              "      <td>39</td>\n",
              "      <td>2.052632</td>\n",
              "      <td>-58.924359</td>\n",
              "      <td>Rodgers</td>\n",
              "      <td>King_Power</td>\n",
              "      <td>False</td>\n",
              "      <td>False</td>\n",
              "    </tr>\n",
              "    <tr>\n",
              "      <th>2</th>\n",
              "      <td>MCI</td>\n",
              "      <td>2019</td>\n",
              "      <td>19</td>\n",
              "      <td>-191.52</td>\n",
              "      <td>78.66</td>\n",
              "      <td>-112.86</td>\n",
              "      <td>38</td>\n",
              "      <td>2.000000</td>\n",
              "      <td>-95.760000</td>\n",
              "      <td>Guardiola</td>\n",
              "      <td>City_Football</td>\n",
              "      <td>False</td>\n",
              "      <td>False</td>\n",
              "    </tr>\n",
              "    <tr>\n",
              "      <th>3</th>\n",
              "      <td>CHE</td>\n",
              "      <td>2019</td>\n",
              "      <td>19</td>\n",
              "      <td>-51.30</td>\n",
              "      <td>166.16</td>\n",
              "      <td>114.86</td>\n",
              "      <td>32</td>\n",
              "      <td>1.684211</td>\n",
              "      <td>-30.459375</td>\n",
              "      <td>Lampard</td>\n",
              "      <td>Abramovich</td>\n",
              "      <td>False</td>\n",
              "      <td>False</td>\n",
              "    </tr>\n",
              "    <tr>\n",
              "      <th>4</th>\n",
              "      <td>SHU</td>\n",
              "      <td>2019</td>\n",
              "      <td>19</td>\n",
              "      <td>-54.15</td>\n",
              "      <td>0.00</td>\n",
              "      <td>-54.15</td>\n",
              "      <td>28</td>\n",
              "      <td>1.473684</td>\n",
              "      <td>-36.744643</td>\n",
              "      <td>Wilder</td>\n",
              "      <td>Al_Saud</td>\n",
              "      <td>False</td>\n",
              "      <td>False</td>\n",
              "    </tr>\n",
              "  </tbody>\n",
              "</table>\n",
              "</div>"
            ],
            "text/plain": [
              "  Club  Season  GW_Played  ...          Owner  Champion  Relegated\n",
              "0  LIV    2019         18  ...         Fenway     False      False\n",
              "1  LEI    2019         19  ...     King_Power     False      False\n",
              "2  MCI    2019         19  ...  City_Football     False      False\n",
              "3  CHE    2019         19  ...     Abramovich     False      False\n",
              "4  SHU    2019         19  ...        Al_Saud     False      False\n",
              "\n",
              "[5 rows x 13 columns]"
            ]
          },
          "metadata": {
            "tags": []
          },
          "execution_count": 6
        }
      ]
    },
    {
      "cell_type": "code",
      "metadata": {
        "id": "dsyE8mSuaDwE",
        "colab_type": "code",
        "colab": {}
      },
      "source": [
        "# choose your target. which column in will you predict? \n",
        "# target: 2019 Champion"
      ],
      "execution_count": 0,
      "outputs": []
    },
    {
      "cell_type": "code",
      "metadata": {
        "id": "EIeAemRLaDwI",
        "colab_type": "code",
        "colab": {}
      },
      "source": [
        "# regression or classification?\n",
        "# classification"
      ],
      "execution_count": 0,
      "outputs": []
    },
    {
      "cell_type": "code",
      "metadata": {
        "id": "z10ABpxcaDwK",
        "colab_type": "code",
        "colab": {}
      },
      "source": [
        "# evaluation metrics: accuracy"
      ],
      "execution_count": 0,
      "outputs": []
    },
    {
      "cell_type": "code",
      "metadata": {
        "id": "q5gVbTOHWKem",
        "colab_type": "code",
        "colab": {}
      },
      "source": [
        "columns = ['Club', 'Season', 'GW_Played', 'Expenditure', 'Income', 'Net', \n",
        "           'Points', 'Points_per_GW', 'Expenditure_per_Point_per_GW', 'Manager',\n",
        "           'Owner', 'Champion', 'Relegated']"
      ],
      "execution_count": 0,
      "outputs": []
    },
    {
      "cell_type": "code",
      "metadata": {
        "id": "3zxEAMidaDwM",
        "colab_type": "code",
        "colab": {}
      },
      "source": [
        "# split data by season\n",
        "\n",
        "train = df[df['Season'] < 2018]\n",
        "val = df[df['Season'] == 2018]\n",
        "test = df[df['Season'] == 2019]"
      ],
      "execution_count": 0,
      "outputs": []
    },
    {
      "cell_type": "code",
      "metadata": {
        "id": "2eXmSdZ2aDwO",
        "colab_type": "code",
        "outputId": "70cd3301-2fa6-4e25-b268-e2ff95dce82e",
        "colab": {
          "base_uri": "https://localhost:8080/",
          "height": 34
        }
      },
      "source": [
        "train.shape, val.shape, test.shape"
      ],
      "execution_count": 9,
      "outputs": [
        {
          "output_type": "execute_result",
          "data": {
            "text/plain": [
              "((460, 13), (20, 13), (20, 13))"
            ]
          },
          "metadata": {
            "tags": []
          },
          "execution_count": 9
        }
      ]
    },
    {
      "cell_type": "code",
      "metadata": {
        "id": "JlRavM2NSXfR",
        "colab_type": "code",
        "outputId": "57f25ffe-0d36-415a-f835-02ffad27acdb",
        "colab": {
          "base_uri": "https://localhost:8080/",
          "height": 204
        }
      },
      "source": [
        "train.describe(exclude='number').T.sort_values(by='unique')"
      ],
      "execution_count": 10,
      "outputs": [
        {
          "output_type": "execute_result",
          "data": {
            "text/html": [
              "<div>\n",
              "<style scoped>\n",
              "    .dataframe tbody tr th:only-of-type {\n",
              "        vertical-align: middle;\n",
              "    }\n",
              "\n",
              "    .dataframe tbody tr th {\n",
              "        vertical-align: top;\n",
              "    }\n",
              "\n",
              "    .dataframe thead th {\n",
              "        text-align: right;\n",
              "    }\n",
              "</style>\n",
              "<table border=\"1\" class=\"dataframe\">\n",
              "  <thead>\n",
              "    <tr style=\"text-align: right;\">\n",
              "      <th></th>\n",
              "      <th>count</th>\n",
              "      <th>unique</th>\n",
              "      <th>top</th>\n",
              "      <th>freq</th>\n",
              "    </tr>\n",
              "  </thead>\n",
              "  <tbody>\n",
              "    <tr>\n",
              "      <th>Champion</th>\n",
              "      <td>460</td>\n",
              "      <td>2</td>\n",
              "      <td>False</td>\n",
              "      <td>437</td>\n",
              "    </tr>\n",
              "    <tr>\n",
              "      <th>Relegated</th>\n",
              "      <td>460</td>\n",
              "      <td>2</td>\n",
              "      <td>False</td>\n",
              "      <td>391</td>\n",
              "    </tr>\n",
              "    <tr>\n",
              "      <th>Club</th>\n",
              "      <td>460</td>\n",
              "      <td>47</td>\n",
              "      <td>MAN</td>\n",
              "      <td>23</td>\n",
              "    </tr>\n",
              "    <tr>\n",
              "      <th>Owner</th>\n",
              "      <td>460</td>\n",
              "      <td>66</td>\n",
              "      <td>ITV_plc</td>\n",
              "      <td>23</td>\n",
              "    </tr>\n",
              "    <tr>\n",
              "      <th>Manager</th>\n",
              "      <td>460</td>\n",
              "      <td>136</td>\n",
              "      <td>Wenger</td>\n",
              "      <td>23</td>\n",
              "    </tr>\n",
              "  </tbody>\n",
              "</table>\n",
              "</div>"
            ],
            "text/plain": [
              "          count unique      top freq\n",
              "Champion    460      2    False  437\n",
              "Relegated   460      2    False  391\n",
              "Club        460     47      MAN   23\n",
              "Owner       460     66  ITV_plc   23\n",
              "Manager     460    136   Wenger   23"
            ]
          },
          "metadata": {
            "tags": []
          },
          "execution_count": 10
        }
      ]
    },
    {
      "cell_type": "code",
      "metadata": {
        "id": "rN7864i9aDwR",
        "colab_type": "code",
        "outputId": "3200f210-58b2-4a92-b3b6-708e044fcd6c",
        "colab": {
          "base_uri": "https://localhost:8080/",
          "height": 255
        }
      },
      "source": [
        "# null values?\n",
        "df.isna().sum()"
      ],
      "execution_count": 12,
      "outputs": [
        {
          "output_type": "execute_result",
          "data": {
            "text/plain": [
              "Club                            0\n",
              "Season                          0\n",
              "GW_Played                       0\n",
              "Expenditure                     0\n",
              "Income                          0\n",
              "Net                             0\n",
              "Points                          0\n",
              "Points_per_GW                   0\n",
              "Expenditure_per_Point_per_GW    0\n",
              "Manager                         0\n",
              "Owner                           0\n",
              "Champion                        0\n",
              "Relegated                       0\n",
              "dtype: int64"
            ]
          },
          "metadata": {
            "tags": []
          },
          "execution_count": 12
        }
      ]
    },
    {
      "cell_type": "code",
      "metadata": {
        "id": "rFdnXjzAmdv1",
        "colab_type": "code",
        "colab": {}
      },
      "source": [
        "# assign variables\n",
        "target = 'Champion'\n",
        "#features = df.columns.drop([target])\n",
        "\n",
        "X_train = train[features]\n",
        "y_train = train[target]\n",
        "\n",
        "X_val = val[features]\n",
        "y_val = val[target]\n",
        "\n",
        "X_test = test[features]\n",
        "y_test = test[target]"
      ],
      "execution_count": 0,
      "outputs": []
    },
    {
      "cell_type": "code",
      "metadata": {
        "id": "BSIpeXowl8T_",
        "colab_type": "code",
        "colab": {
          "base_uri": "https://localhost:8080/",
          "height": 850
        },
        "outputId": "4b31b363-f508-4b19-a01a-86fa8c60c677"
      },
      "source": [
        "import category_encoders as ce\n",
        "from sklearn.impute import SimpleImputer\n",
        "from sklearn.ensemble import RandomForestClassifier\n",
        "from sklearn.model_selection import train_test_split\n",
        "from sklearn.pipeline import make_pipeline\n",
        "\n",
        "pipeline = make_pipeline(\n",
        "    ce.OrdinalEncoder(), \n",
        "    SimpleImputer(strategy='median'), \n",
        "    RandomForestClassifier(n_estimators=100, random_state=42, n_jobs=-1)\n",
        ")\n",
        "\n",
        "# Fit on train, score on val\n",
        "pipeline.fit(X_train, y_train)"
      ],
      "execution_count": 51,
      "outputs": [
        {
          "output_type": "execute_result",
          "data": {
            "text/plain": [
              "Pipeline(memory=None,\n",
              "         steps=[('ordinalencoder',\n",
              "                 OrdinalEncoder(cols=['Club', 'Manager', 'Owner'],\n",
              "                                drop_invariant=False, handle_missing='value',\n",
              "                                handle_unknown='value',\n",
              "                                mapping=[{'col': 'Club',\n",
              "                                          'data_type': dtype('O'),\n",
              "                                          'mapping': MCI      1\n",
              "MAN      2\n",
              "TOT      3\n",
              "LIV      4\n",
              "CHE      5\n",
              "ARS      6\n",
              "BUR      7\n",
              "EVE      8\n",
              "LEI      9\n",
              "BOU     10\n",
              "CRY     11\n",
              "NEW     12\n",
              "WHU     13\n",
              "WAT     14\n",
              "BHA     15\n",
              "HUD     16\n",
              "SOU     17\n",
              "STK     18\n",
              "SWA     19\n",
              "WBA     20\n",
              "HUL     21\n",
              "MID     22\n",
              "SUN     23\n",
              "NOR     24\n",
              "AVL     25\n",
              "QPR     26\n",
              "FUL     27\n",
              "CAR     28\n",
              "WIG...\n",
              "                ('randomforestclassifier',\n",
              "                 RandomForestClassifier(bootstrap=True, class_weight=None,\n",
              "                                        criterion='gini', max_depth=None,\n",
              "                                        max_features='auto',\n",
              "                                        max_leaf_nodes=None,\n",
              "                                        min_impurity_decrease=0.0,\n",
              "                                        min_impurity_split=None,\n",
              "                                        min_samples_leaf=1, min_samples_split=2,\n",
              "                                        min_weight_fraction_leaf=0.0,\n",
              "                                        n_estimators=100, n_jobs=-1,\n",
              "                                        oob_score=False, random_state=42,\n",
              "                                        verbose=0, warm_start=False))],\n",
              "         verbose=False)"
            ]
          },
          "metadata": {
            "tags": []
          },
          "execution_count": 51
        }
      ]
    },
    {
      "cell_type": "code",
      "metadata": {
        "id": "JOOChBmclwHJ",
        "colab_type": "code",
        "colab": {
          "base_uri": "https://localhost:8080/",
          "height": 34
        },
        "outputId": "a76398e0-b845-4fe8-ba48-e1814fc35ccd"
      },
      "source": [
        "print('Validation Accuracy', pipeline.score(X_val, y_val))"
      ],
      "execution_count": 52,
      "outputs": [
        {
          "output_type": "stream",
          "text": [
            "Validation Accuracy 0.95\n"
          ],
          "name": "stdout"
        }
      ]
    },
    {
      "cell_type": "code",
      "metadata": {
        "id": "AN8e7LU2mHnp",
        "colab_type": "code",
        "colab": {
          "base_uri": "https://localhost:8080/",
          "height": 200
        },
        "outputId": "8d196b41-c4ae-4882-f19c-aeda4f5df421"
      },
      "source": [
        "rf = pipeline.named_steps['randomforestclassifier']\n",
        "importances = pd.Series(rf.feature_importances_, X_train.columns)\n",
        "\n",
        "# Plot feature importances\n",
        "%matplotlib inline\n",
        "import matplotlib.pyplot as plt\n",
        "\n",
        "n = 5\n",
        "plt.figure(figsize=(10,n/2))\n",
        "plt.title(f'Top {n} features')\n",
        "importances.sort_values()[-n:].plot.barh(color='grey');"
      ],
      "execution_count": 54,
      "outputs": [
        {
          "output_type": "display_data",
          "data": {
            "image/png": "[encoded data removed]",
            "text/plain": [
              "<Figure size 720x180 with 1 Axes>"
            ]
          },
          "metadata": {
            "tags": []
          }
        }
      ]
    },
    {
      "cell_type": "code",
      "metadata": {
        "id": "99FTtfCBeiPR",
        "colab_type": "code",
        "colab": {
          "base_uri": "https://localhost:8080/",
          "height": 34
        },
        "outputId": "0e80d812-73da-49a9-871f-9b03b32d31b9"
      },
      "source": [
        "from sklearn.metrics import accuracy_score\n",
        "y_pred = pipeline.predict(X_val)\n",
        "print('Validation Accuracy', accuracy_score(y_val, y_pred))"
      ],
      "execution_count": 34,
      "outputs": [
        {
          "output_type": "stream",
          "text": [
            "Validation Accuracy 0.95\n"
          ],
          "name": "stdout"
        }
      ]
    },
    {
      "cell_type": "code",
      "metadata": {
        "id": "L0pbZH3Deh-U",
        "colab_type": "code",
        "colab": {
          "base_uri": "https://localhost:8080/",
          "height": 1000
        },
        "outputId": "94247619-957e-4053-f814-bae7fd88a1e7"
      },
      "source": [
        "# fit_transfom on train, transform on val\n",
        "encoder = ce.OrdinalEncoder()\n",
        "X_train_encoded = encoder.fit_transform(X_train)\n",
        "X_val_encoded = encoder.transform(X_val)\n",
        "\n",
        "model = XGBClassifier(\n",
        "    n_estimators=1000,  # <= 1000 trees, depends on early stopping\n",
        "    max_depth=10,        # try deeper trees because of high cardinality categoricals\n",
        "    learning_rate=0.5,  # try higher learning rate\n",
        "    n_jobs=-1\n",
        ")\n",
        "\n",
        "eval_set = [(X_train_encoded, y_train), \n",
        "            (X_val_encoded, y_val)]\n",
        "\n",
        "model.fit(X_train_encoded, y_train, \n",
        "          eval_set=eval_set,\n",
        "          eval_metric='logloss', \n",
        "          early_stopping_rounds=50) # Stop if the score hasn't improved in 50 rounds"
      ],
      "execution_count": 38,
      "outputs": [
        {
          "output_type": "stream",
          "text": [
            "[0]\tvalidation_0-logloss:0.336852\tvalidation_1-logloss:0.36019\n",
            "Multiple eval metrics have been passed: 'validation_1-logloss' will be used for early stopping.\n",
            "\n",
            "Will train until validation_1-logloss hasn't improved in 50 rounds.\n",
            "[1]\tvalidation_0-logloss:0.20132\tvalidation_1-logloss:0.241181\n",
            "[2]\tvalidation_0-logloss:0.127448\tvalidation_1-logloss:0.19249\n",
            "[3]\tvalidation_0-logloss:0.086975\tvalidation_1-logloss:0.159807\n",
            "[4]\tvalidation_0-logloss:0.063053\tvalidation_1-logloss:0.14815\n",
            "[5]\tvalidation_0-logloss:0.04768\tvalidation_1-logloss:0.142889\n",
            "[6]\tvalidation_0-logloss:0.0381\tvalidation_1-logloss:0.121503\n",
            "[7]\tvalidation_0-logloss:0.031607\tvalidation_1-logloss:0.116172\n",
            "[8]\tvalidation_0-logloss:0.027093\tvalidation_1-logloss:0.120578\n",
            "[9]\tvalidation_0-logloss:0.023966\tvalidation_1-logloss:0.121561\n",
            "[10]\tvalidation_0-logloss:0.021676\tvalidation_1-logloss:0.124964\n",
            "[11]\tvalidation_0-logloss:0.020098\tvalidation_1-logloss:0.120005\n",
            "[12]\tvalidation_0-logloss:0.018855\tvalidation_1-logloss:0.123174\n",
            "[13]\tvalidation_0-logloss:0.017602\tvalidation_1-logloss:0.129323\n",
            "[14]\tvalidation_0-logloss:0.016778\tvalidation_1-logloss:0.128036\n",
            "[15]\tvalidation_0-logloss:0.016446\tvalidation_1-logloss:0.1267\n",
            "[16]\tvalidation_0-logloss:0.015898\tvalidation_1-logloss:0.123835\n",
            "[17]\tvalidation_0-logloss:0.015353\tvalidation_1-logloss:0.126792\n",
            "[18]\tvalidation_0-logloss:0.014756\tvalidation_1-logloss:0.124005\n",
            "[19]\tvalidation_0-logloss:0.014143\tvalidation_1-logloss:0.126506\n",
            "[20]\tvalidation_0-logloss:0.013654\tvalidation_1-logloss:0.12936\n",
            "[21]\tvalidation_0-logloss:0.013248\tvalidation_1-logloss:0.131983\n",
            "[22]\tvalidation_0-logloss:0.012799\tvalidation_1-logloss:0.129334\n",
            "[23]\tvalidation_0-logloss:0.012488\tvalidation_1-logloss:0.127529\n",
            "[24]\tvalidation_0-logloss:0.012139\tvalidation_1-logloss:0.130716\n",
            "[25]\tvalidation_0-logloss:0.011989\tvalidation_1-logloss:0.128283\n",
            "[26]\tvalidation_0-logloss:0.011794\tvalidation_1-logloss:0.131098\n",
            "[27]\tvalidation_0-logloss:0.011411\tvalidation_1-logloss:0.128505\n",
            "[28]\tvalidation_0-logloss:0.011202\tvalidation_1-logloss:0.129881\n",
            "[29]\tvalidation_0-logloss:0.011009\tvalidation_1-logloss:0.127541\n",
            "[30]\tvalidation_0-logloss:0.010804\tvalidation_1-logloss:0.130221\n",
            "[31]\tvalidation_0-logloss:0.010509\tvalidation_1-logloss:0.127601\n",
            "[32]\tvalidation_0-logloss:0.010353\tvalidation_1-logloss:0.126511\n",
            "[33]\tvalidation_0-logloss:0.010187\tvalidation_1-logloss:0.129047\n",
            "[34]\tvalidation_0-logloss:0.010056\tvalidation_1-logloss:0.128249\n",
            "[35]\tvalidation_0-logloss:0.009992\tvalidation_1-logloss:0.124977\n",
            "[36]\tvalidation_0-logloss:0.009811\tvalidation_1-logloss:0.127105\n",
            "[37]\tvalidation_0-logloss:0.009755\tvalidation_1-logloss:0.128777\n",
            "[38]\tvalidation_0-logloss:0.009648\tvalidation_1-logloss:0.126588\n",
            "[39]\tvalidation_0-logloss:0.009524\tvalidation_1-logloss:0.128641\n",
            "[40]\tvalidation_0-logloss:0.009421\tvalidation_1-logloss:0.126783\n",
            "[41]\tvalidation_0-logloss:0.009358\tvalidation_1-logloss:0.128561\n",
            "[42]\tvalidation_0-logloss:0.009311\tvalidation_1-logloss:0.12689\n",
            "[43]\tvalidation_0-logloss:0.009182\tvalidation_1-logloss:0.130199\n",
            "[44]\tvalidation_0-logloss:0.009142\tvalidation_1-logloss:0.131556\n",
            "[45]\tvalidation_0-logloss:0.00909\tvalidation_1-logloss:0.129897\n",
            "[46]\tvalidation_0-logloss:0.008999\tvalidation_1-logloss:0.131736\n",
            "[47]\tvalidation_0-logloss:0.008956\tvalidation_1-logloss:0.133087\n",
            "[48]\tvalidation_0-logloss:0.008883\tvalidation_1-logloss:0.131132\n",
            "[49]\tvalidation_0-logloss:0.00885\tvalidation_1-logloss:0.129734\n",
            "[50]\tvalidation_0-logloss:0.008797\tvalidation_1-logloss:0.131649\n",
            "[51]\tvalidation_0-logloss:0.008763\tvalidation_1-logloss:0.130275\n",
            "[52]\tvalidation_0-logloss:0.00872\tvalidation_1-logloss:0.132052\n",
            "[53]\tvalidation_0-logloss:0.008684\tvalidation_1-logloss:0.13345\n",
            "[54]\tvalidation_0-logloss:0.008587\tvalidation_1-logloss:0.136055\n",
            "[55]\tvalidation_0-logloss:0.008542\tvalidation_1-logloss:0.134441\n",
            "[56]\tvalidation_0-logloss:0.008508\tvalidation_1-logloss:0.133124\n",
            "[57]\tvalidation_0-logloss:0.008467\tvalidation_1-logloss:0.134522\n",
            "Stopping. Best iteration:\n",
            "[7]\tvalidation_0-logloss:0.031607\tvalidation_1-logloss:0.116172\n",
            "\n"
          ],
          "name": "stdout"
        },
        {
          "output_type": "execute_result",
          "data": {
            "text/plain": [
              "XGBClassifier(base_score=0.5, booster='gbtree', colsample_bylevel=1,\n",
              "              colsample_bynode=1, colsample_bytree=1, gamma=0,\n",
              "              learning_rate=0.5, max_delta_step=0, max_depth=10,\n",
              "              min_child_weight=1, missing=None, n_estimators=1000, n_jobs=-1,\n",
              "              nthread=None, objective='binary:logistic', random_state=0,\n",
              "              reg_alpha=0, reg_lambda=1, scale_pos_weight=1, seed=None,\n",
              "              silent=None, subsample=1, verbosity=1)"
            ]
          },
          "metadata": {
            "tags": []
          },
          "execution_count": 38
        }
      ]
    },
    {
      "cell_type": "code",
      "metadata": {
        "id": "HUdgP8VCe9iY",
        "colab_type": "code",
        "colab": {
          "base_uri": "https://localhost:8080/",
          "height": 284
        },
        "outputId": "2326edb3-9049-4b62-e9c9-cd880802700a"
      },
      "source": [
        "\n",
        "results = model.evals_result()\n",
        "train_error = results['validation_0']['logloss']\n",
        "val_error = results['validation_1']['logloss']\n",
        "epoch = range(1, len(train_error)+1)\n",
        "plt.plot(epoch, train_error, label='Train')\n",
        "plt.plot(epoch, val_error, label='Validation')\n",
        "plt.ylabel('Classification Error')\n",
        "plt.xlabel('Model Complexity (n_estimators)')\n",
        "plt.ylim((0.18, 0.22)) # Zoom in\n",
        "plt.legend();"
      ],
      "execution_count": 40,
      "outputs": [
        {
          "output_type": "display_data",
          "data": {
            "image/png": "[encoded data removed]",
            "text/plain": [
              "<Figure size 432x288 with 1 Axes>"
            ]
          },
          "metadata": {
            "tags": []
          }
        }
      ]
    },
    {
      "cell_type": "code",
      "metadata": {
        "id": "R-fx0D6Za6fw",
        "colab_type": "code",
        "colab": {}
      },
      "source": [
        "# Linear models have coefficients, but tree ensembles do not.\n",
        "# Instaed, to see the relationship between individual feature(s) and the target, \n",
        "# we can use partial dependence plots."
      ],
      "execution_count": 0,
      "outputs": []
    },
    {
      "cell_type": "code",
      "metadata": {
        "id": "JlJDixasITxY",
        "colab_type": "code",
        "outputId": "a29ab785-0fdc-4602-d800-7609edd464d8",
        "colab": {
          "base_uri": "https://localhost:8080/",
          "height": 102
        }
      },
      "source": [
        "from scipy.stats import randint, uniform\n",
        "from sklearn.ensemble import RandomForestRegressor\n",
        "from sklearn.model_selection import RandomizedSearchCV\n",
        "\n",
        "param_distributions = { \n",
        "    'n_estimators': randint(50, 500), \n",
        "    'max_depth': [5, 10, 15, 20, None], \n",
        "    'max_features': uniform(0, 1), \n",
        "}\n",
        "\n",
        "search = RandomizedSearchCV(\n",
        "    RandomForestRegressor(random_state=42), \n",
        "    param_distributions=param_distributions, \n",
        "    n_iter=5, \n",
        "    cv=2, \n",
        "    scoring='neg_mean_absolute_error', \n",
        "    verbose=10, \n",
        "    return_train_score=True, \n",
        "    n_jobs=-1, \n",
        "    random_state=42\n",
        ")\n",
        "\n",
        "search.fit(X_train, y_train);"
      ],
      "execution_count": 0,
      "outputs": [
        {
          "output_type": "stream",
          "text": [
            "Fitting 2 folds for each of 5 candidates, totalling 10 fits\n"
          ],
          "name": "stdout"
        },
        {
          "output_type": "stream",
          "text": [
            "[Parallel(n_jobs=-1)]: Using backend LokyBackend with 2 concurrent workers.\n",
            "[Parallel(n_jobs=-1)]: Done   1 tasks      | elapsed:    2.3s\n",
            "[Parallel(n_jobs=-1)]: Done   4 tasks      | elapsed:    2.9s\n",
            "[Parallel(n_jobs=-1)]: Done  10 out of  10 | elapsed:    4.4s finished\n"
          ],
          "name": "stderr"
        }
      ]
    },
    {
      "cell_type": "code",
      "metadata": {
        "id": "yCvcXT2SITmg",
        "colab_type": "code",
        "outputId": "b8ec360f-bd93-4eda-99df-c008018b1b1d",
        "colab": {
          "base_uri": "https://localhost:8080/",
          "height": 51
        }
      },
      "source": [
        "print('Best hyperparameters', search.best_params_)\n",
        "print('Cross-validation MAE', -search.best_score_)\n",
        "model = search.best_estimator_"
      ],
      "execution_count": 0,
      "outputs": [
        {
          "output_type": "stream",
          "text": [
            "Best hyperparameters {'max_depth': 20, 'max_features': 0.9507143064099162, 'n_estimators': 156}\n",
            "Cross-validation MAE 8.679222408026755\n"
          ],
          "name": "stdout"
        }
      ]
    },
    {
      "cell_type": "code",
      "metadata": {
        "id": "o-UstKUAITce",
        "colab_type": "code",
        "colab": {}
      },
      "source": [
        "# Get an individual observation to explain.\n",
        "# For example, the 0th row from the test set.\n",
        "\n",
        "row = X_test.iloc[[0]]  # Dataframe with a single row (double brackets keeps it a dataframe)"
      ],
      "execution_count": 0,
      "outputs": []
    },
    {
      "cell_type": "code",
      "metadata": {
        "id": "kUrIy3heJLUF",
        "colab_type": "code",
        "outputId": "20b9def1-b0cc-4180-b62e-22b2aba2ddc0",
        "colab": {
          "base_uri": "https://localhost:8080/",
          "height": 51
        }
      },
      "source": [
        "# What was the actual value for this club?\n",
        "y_test.iloc[[0]]"
      ],
      "execution_count": 0,
      "outputs": [
        {
          "output_type": "execute_result",
          "data": {
            "text/plain": [
              "0    0\n",
              "Name: Points, dtype: int64"
            ]
          },
          "metadata": {
            "tags": []
          },
          "execution_count": 41
        }
      ]
    },
    {
      "cell_type": "code",
      "metadata": {
        "id": "7m-yPzdgbK9Z",
        "colab_type": "code",
        "outputId": "b7664b84-479e-4830-b5b8-9dce1478a066",
        "colab": {
          "base_uri": "https://localhost:8080/",
          "height": 340
        }
      },
      "source": [
        "pip install shap"
      ],
      "execution_count": 0,
      "outputs": [
        {
          "output_type": "stream",
          "text": [
            "Collecting shap\n",
            "\u001b[?25l  Downloading https://files.pythonhosted.org/packages/7c/e2/4050c2e68639adf0f8a8a4857f234b71fe1a1139e25ff17575c935f49615/shap-0.33.0.tar.gz (263kB)\n",
            "\r\u001b[K     |█▎                              | 10kB 17.8MB/s eta 0:00:01\r\u001b[K     |██▌                             | 20kB 3.0MB/s eta 0:00:01\r\u001b[K     |███▊                            | 30kB 4.3MB/s eta 0:00:01\r\u001b[K     |█████                           | 40kB 2.8MB/s eta 0:00:01\r\u001b[K     |██████▏                         | 51kB 3.5MB/s eta 0:00:01\r\u001b[K     |███████▌                        | 61kB 4.1MB/s eta 0:00:01\r\u001b[K     |████████▊                       | 71kB 4.7MB/s eta 0:00:01\r\u001b[K     |██████████                      | 81kB 5.3MB/s eta 0:00:01\r\u001b[K     |███████████▏                    | 92kB 5.9MB/s eta 0:00:01\r\u001b[K     |████████████▍                   | 102kB 4.6MB/s eta 0:00:01\r\u001b[K     |█████████████▊                  | 112kB 4.6MB/s eta 0:00:01\r\u001b[K     |███████████████                 | 122kB 4.6MB/s eta 0:00:01\r\u001b[K     |████████████████▏               | 133kB 4.6MB/s eta 0:00:01\r\u001b[K     |█████████████████▍              | 143kB 4.6MB/s eta 0:00:01\r\u001b[K     |██████████████████▋             | 153kB 4.6MB/s eta 0:00:01\r\u001b[K     |████████████████████            | 163kB 4.6MB/s eta 0:00:01\r\u001b[K     |█████████████████████▏          | 174kB 4.6MB/s eta 0:00:01\r\u001b[K     |██████████████████████▍         | 184kB 4.6MB/s eta 0:00:01\r\u001b[K     |███████████████████████▋        | 194kB 4.6MB/s eta 0:00:01\r\u001b[K     |████████████████████████▉       | 204kB 4.6MB/s eta 0:00:01\r\u001b[K     |██████████████████████████▏     | 215kB 4.6MB/s eta 0:00:01\r\u001b[K     |███████████████████████████▍    | 225kB 4.6MB/s eta 0:00:01\r\u001b[K     |████████████████████████████▋   | 235kB 4.6MB/s eta 0:00:01\r\u001b[K     |█████████████████████████████▉  | 245kB 4.6MB/s eta 0:00:01\r\u001b[K     |███████████████████████████████ | 256kB 4.6MB/s eta 0:00:01\r\u001b[K     |████████████████████████████████| 266kB 4.6MB/s \n",
            "\u001b[?25hRequirement already satisfied: numpy in /usr/local/lib/python3.6/dist-packages (from shap) (1.17.4)\n",
            "Requirement already satisfied: scipy in /usr/local/lib/python3.6/dist-packages (from shap) (1.3.3)\n",
            "Requirement already satisfied: scikit-learn in /usr/local/lib/python3.6/dist-packages (from shap) (0.21.3)\n",
            "Requirement already satisfied: pandas in /usr/local/lib/python3.6/dist-packages (from shap) (0.25.3)\n",
            "Requirement already satisfied: tqdm>4.25.0 in /usr/local/lib/python3.6/dist-packages (from shap) (4.28.1)\n",
            "Requirement already satisfied: joblib>=0.11 in /usr/local/lib/python3.6/dist-packages (from scikit-learn->shap) (0.14.1)\n",
            "Requirement already satisfied: pytz>=2017.2 in /usr/local/lib/python3.6/dist-packages (from pandas->shap) (2018.9)\n",
            "Requirement already satisfied: python-dateutil>=2.6.1 in /usr/local/lib/python3.6/dist-packages (from pandas->shap) (2.6.1)\n",
            "Requirement already satisfied: six>=1.5 in /usr/local/lib/python3.6/dist-packages (from python-dateutil>=2.6.1->pandas->shap) (1.12.0)\n",
            "Building wheels for collected packages: shap\n",
            "  Building wheel for shap (setup.py) ... \u001b[?25l\u001b[?25hdone\n",
            "  Created wheel for shap: filename=shap-0.33.0-cp36-cp36m-linux_x86_64.whl size=382259 sha256=c9ed6b0c69157065e17587f18aef5debc9987f5376b8c398ce525d8a05529b34\n",
            "  Stored in directory: /root/.cache/pip/wheels/39/0f/88/a8124d43431284e10f263ffe449e119344c6145c3a165d186c\n",
            "Successfully built shap\n",
            "Installing collected packages: shap\n",
            "Successfully installed shap-0.33.0\n"
          ],
          "name": "stdout"
        }
      ]
    },
    {
      "cell_type": "code",
      "metadata": {
        "id": "mTWeChgcJK3q",
        "colab_type": "code",
        "outputId": "24476d44-2f95-4ece-991c-c5a05331de63",
        "colab": {
          "base_uri": "https://localhost:8080/",
          "height": 34
        }
      },
      "source": [
        "# Base value is approximately equal to the mean baseline\n",
        "explainer.expected_value, y_train.mean()"
      ],
      "execution_count": 0,
      "outputs": [
        {
          "output_type": "execute_result",
          "data": {
            "text/plain": [
              "(52.033779264214076, 52.03913043478261)"
            ]
          },
          "metadata": {
            "tags": []
          },
          "execution_count": 44
        }
      ]
    },
    {
      "cell_type": "code",
      "metadata": {
        "id": "FT41k6o4_FKc",
        "colab_type": "code",
        "outputId": "fa1e6e9b-de76-4961-ea64-ba308faee96a",
        "colab": {
          "base_uri": "https://localhost:8080/",
          "height": 279
        }
      },
      "source": [
        "y = df['Points']\n",
        "sns.distplot(y);"
      ],
      "execution_count": 0,
      "outputs": [
        {
          "output_type": "display_data",
          "data": {
            "image/png": "[encoded data removed]",
            "text/plain": [
              "<Figure size 432x288 with 1 Axes>"
            ]
          },
          "metadata": {
            "tags": []
          }
        }
      ]
    },
    {
      "cell_type": "code",
      "metadata": {
        "id": "ppT7T7my_PG3",
        "colab_type": "code",
        "colab": {}
      },
      "source": [
        "# log transform from _231 notes\n",
        "\n",
        "import numpy as np\n",
        "y_log = np.log1p(y)"
      ],
      "execution_count": 0,
      "outputs": []
    },
    {
      "cell_type": "code",
      "metadata": {
        "id": "PTvZETFV_gGb",
        "colab_type": "code",
        "outputId": "384e546b-725e-49d5-9569-078f5b90301e",
        "colab": {
          "base_uri": "https://localhost:8080/",
          "height": 295
        }
      },
      "source": [
        "\n",
        "sns.distplot(y_log)\n",
        "plt.title('Points');"
      ],
      "execution_count": 0,
      "outputs": [
        {
          "output_type": "display_data",
          "data": {
            "image/png": "[encoded data removed]",
            "text/plain": [
              "<Figure size 432x288 with 1 Axes>"
            ]
          },
          "metadata": {
            "tags": []
          }
        }
      ]
    },
    {
      "cell_type": "code",
      "metadata": {
        "id": "sBLynAcN-3Hh",
        "colab_type": "code",
        "colab": {}
      },
      "source": [
        ""
      ],
      "execution_count": 0,
      "outputs": []
    }
  ]
}