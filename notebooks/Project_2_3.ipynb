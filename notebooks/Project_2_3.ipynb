{
  "nbformat": 4,
  "nbformat_minor": 0,
  "metadata": {
    "kernelspec": {
      "display_name": "Python 3",
      "language": "python",
      "name": "python3"
    },
    "language_info": {
      "codemirror_mode": {
        "name": "ipython",
        "version": 3
      },
      "file_extension": ".py",
      "mimetype": "text/x-python",
      "name": "python",
      "nbconvert_exporter": "python",
      "pygments_lexer": "ipython3",
      "version": "3.7.4"
    },
    "colab": {
      "name": "Project_2.1.ipynb",
      "provenance": [],
      "collapsed_sections": [],
      "include_colab_link": true
    }
  },
  "cells": [
    {
      "cell_type": "markdown",
      "metadata": {
        "id": "view-in-github",
        "colab_type": "text"
      },
      "source": [
        "<a href=\"https://colab.research.google.com/github/AuFeld/Project2/blob/master/notebooks/Project_2_3.ipynb\" target=\"_parent\"><img src=\"https://colab.research.google.com/assets/colab-badge.svg\" alt=\"Open In Colab\"/></a>"
      ]
    },
    {
      "cell_type": "code",
      "metadata": {
        "id": "xJzN8XWEaDv1",
        "colab_type": "code",
        "colab": {}
      },
      "source": [
        "DATA_PATH = 'Project_2_Data.xlsx'"
      ],
      "execution_count": 0,
      "outputs": []
    },
    {
      "cell_type": "code",
      "metadata": {
        "id": "cdo4ZUOy3XWN",
        "colab_type": "code",
        "colab": {}
      },
      "source": [
        "!pip install category_encoders==2.*\n",
        "!pip install pdpbox\n",
        "!pip install shap\n",
        "!pip install eli5\n",
        "!pip install pandas-profiling==2.*"
      ],
      "execution_count": 0,
      "outputs": []
    },
    {
      "cell_type": "code",
      "metadata": {
        "id": "F2rYl-nCaDv4",
        "colab_type": "code",
        "colab": {
          "base_uri": "https://localhost:8080/",
          "height": 79
        },
        "outputId": "4f153033-9e67-4317-f5fe-ece6bf98dfac"
      },
      "source": [
        "# import libraries\n",
        "import pandas as pd\n",
        "import pandas_profiling\n",
        "import numpy as np\n",
        "from sklearn.ensemble import RandomForestClassifier\n",
        "from sklearn.impute import SimpleImputer\n",
        "from sklearn.pipeline import make_pipeline\n",
        "from sklearn.linear_model import Ridge\n",
        "from sklearn.linear_model import RidgeCV\n",
        "from sklearn.linear_model import RidgeClassifier\n",
        "from sklearn.linear_model import RidgeClassifierCV\n",
        "from sklearn.metrics import mean_absolute_error\n",
        "import seaborn as sns\n",
        "import matplotlib.pyplot as plt\n",
        "import category_encoders as ce\n",
        "import eli5\n",
        "from eli5.sklearn import PermutationImportance"
      ],
      "execution_count": 3,
      "outputs": [
        {
          "output_type": "stream",
          "text": [
            "Using TensorFlow backend.\n"
          ],
          "name": "stderr"
        },
        {
          "output_type": "display_data",
          "data": {
            "text/html": [
              "<p style=\"color: red;\">\n",
              "The default version of TensorFlow in Colab will soon switch to TensorFlow 2.x.<br>\n",
              "We recommend you <a href=\"https://www.tensorflow.org/guide/migrate\" target=\"_blank\">upgrade</a> now \n",
              "or ensure your notebook will continue to use TensorFlow 1.x via the <code>%tensorflow_version 1.x</code> magic:\n",
              "<a href=\"https://colab.research.google.com/notebooks/tensorflow_version.ipynb\" target=\"_blank\">more info</a>.</p>\n"
            ],
            "text/plain": [
              "<IPython.core.display.HTML object>"
            ]
          },
          "metadata": {
            "tags": []
          }
        }
      ]
    },
    {
      "cell_type": "code",
      "metadata": {
        "id": "FNwGJJGYaDv6",
        "colab_type": "code",
        "colab": {}
      },
      "source": [
        "df = pd.read_excel(DATA_PATH)"
      ],
      "execution_count": 0,
      "outputs": []
    },
    {
      "cell_type": "code",
      "metadata": {
        "id": "jCfTBsjdaDv_",
        "colab_type": "code",
        "outputId": "c817f917-04c8-4aba-8b58-cfe3e28e001a",
        "colab": {
          "base_uri": "https://localhost:8080/",
          "height": 215
        }
      },
      "source": [
        "df.head()"
      ],
      "execution_count": 5,
      "outputs": [
        {
          "output_type": "execute_result",
          "data": {
            "text/html": [
              "<div>\n",
              "<style scoped>\n",
              "    .dataframe tbody tr th:only-of-type {\n",
              "        vertical-align: middle;\n",
              "    }\n",
              "\n",
              "    .dataframe tbody tr th {\n",
              "        vertical-align: top;\n",
              "    }\n",
              "\n",
              "    .dataframe thead th {\n",
              "        text-align: right;\n",
              "    }\n",
              "</style>\n",
              "<table border=\"1\" class=\"dataframe\">\n",
              "  <thead>\n",
              "    <tr style=\"text-align: right;\">\n",
              "      <th></th>\n",
              "      <th>Club</th>\n",
              "      <th>Season</th>\n",
              "      <th>GW_Played</th>\n",
              "      <th>Goals_Scored</th>\n",
              "      <th>Goals_Conceded</th>\n",
              "      <th>Goal_Difference</th>\n",
              "      <th>Expenditure</th>\n",
              "      <th>Income</th>\n",
              "      <th>Net</th>\n",
              "      <th>Points</th>\n",
              "      <th>Points_per_GW</th>\n",
              "      <th>Expenditure_per_Point_per_GW</th>\n",
              "      <th>Manager</th>\n",
              "      <th>Owner</th>\n",
              "      <th>Champion</th>\n",
              "      <th>Relegated</th>\n",
              "    </tr>\n",
              "  </thead>\n",
              "  <tbody>\n",
              "    <tr>\n",
              "      <th>0</th>\n",
              "      <td>LIV</td>\n",
              "      <td>2019</td>\n",
              "      <td>18</td>\n",
              "      <td>46</td>\n",
              "      <td>14</td>\n",
              "      <td>32</td>\n",
              "      <td>-2.17</td>\n",
              "      <td>47.42</td>\n",
              "      <td>45.25</td>\n",
              "      <td>49</td>\n",
              "      <td>2.722222</td>\n",
              "      <td>-0.797143</td>\n",
              "      <td>Klopp</td>\n",
              "      <td>Fenway</td>\n",
              "      <td>False</td>\n",
              "      <td>False</td>\n",
              "    </tr>\n",
              "    <tr>\n",
              "      <th>1</th>\n",
              "      <td>LEI</td>\n",
              "      <td>2019</td>\n",
              "      <td>19</td>\n",
              "      <td>41</td>\n",
              "      <td>18</td>\n",
              "      <td>23</td>\n",
              "      <td>-120.95</td>\n",
              "      <td>99.52</td>\n",
              "      <td>-21.43</td>\n",
              "      <td>39</td>\n",
              "      <td>2.052632</td>\n",
              "      <td>-58.924359</td>\n",
              "      <td>Rodgers</td>\n",
              "      <td>King_Power</td>\n",
              "      <td>False</td>\n",
              "      <td>False</td>\n",
              "    </tr>\n",
              "    <tr>\n",
              "      <th>2</th>\n",
              "      <td>MCI</td>\n",
              "      <td>2019</td>\n",
              "      <td>19</td>\n",
              "      <td>50</td>\n",
              "      <td>20</td>\n",
              "      <td>30</td>\n",
              "      <td>-191.52</td>\n",
              "      <td>78.66</td>\n",
              "      <td>-112.86</td>\n",
              "      <td>38</td>\n",
              "      <td>2.000000</td>\n",
              "      <td>-95.760000</td>\n",
              "      <td>Guardiola</td>\n",
              "      <td>City_Football</td>\n",
              "      <td>False</td>\n",
              "      <td>False</td>\n",
              "    </tr>\n",
              "    <tr>\n",
              "      <th>3</th>\n",
              "      <td>CHE</td>\n",
              "      <td>2019</td>\n",
              "      <td>19</td>\n",
              "      <td>33</td>\n",
              "      <td>27</td>\n",
              "      <td>6</td>\n",
              "      <td>-51.30</td>\n",
              "      <td>166.16</td>\n",
              "      <td>114.86</td>\n",
              "      <td>32</td>\n",
              "      <td>1.684211</td>\n",
              "      <td>-30.459375</td>\n",
              "      <td>Lampard</td>\n",
              "      <td>Abramovich</td>\n",
              "      <td>False</td>\n",
              "      <td>False</td>\n",
              "    </tr>\n",
              "    <tr>\n",
              "      <th>4</th>\n",
              "      <td>SHU</td>\n",
              "      <td>2019</td>\n",
              "      <td>19</td>\n",
              "      <td>23</td>\n",
              "      <td>17</td>\n",
              "      <td>6</td>\n",
              "      <td>-54.15</td>\n",
              "      <td>0.00</td>\n",
              "      <td>-54.15</td>\n",
              "      <td>28</td>\n",
              "      <td>1.473684</td>\n",
              "      <td>-36.744643</td>\n",
              "      <td>Wilder</td>\n",
              "      <td>Al_Saud</td>\n",
              "      <td>False</td>\n",
              "      <td>False</td>\n",
              "    </tr>\n",
              "  </tbody>\n",
              "</table>\n",
              "</div>"
            ],
            "text/plain": [
              "  Club  Season  GW_Played  ...          Owner  Champion  Relegated\n",
              "0  LIV    2019         18  ...         Fenway     False      False\n",
              "1  LEI    2019         19  ...     King_Power     False      False\n",
              "2  MCI    2019         19  ...  City_Football     False      False\n",
              "3  CHE    2019         19  ...     Abramovich     False      False\n",
              "4  SHU    2019         19  ...        Al_Saud     False      False\n",
              "\n",
              "[5 rows x 16 columns]"
            ]
          },
          "metadata": {
            "tags": []
          },
          "execution_count": 5
        }
      ]
    },
    {
      "cell_type": "code",
      "metadata": {
        "id": "dsyE8mSuaDwE",
        "colab_type": "code",
        "colab": {}
      },
      "source": [
        "# choose your target. which column in will you predict? \n",
        "# target: 2019 Champion"
      ],
      "execution_count": 0,
      "outputs": []
    },
    {
      "cell_type": "code",
      "metadata": {
        "id": "EIeAemRLaDwI",
        "colab_type": "code",
        "colab": {}
      },
      "source": [
        "# regression or classification?\n",
        "# classification"
      ],
      "execution_count": 0,
      "outputs": []
    },
    {
      "cell_type": "code",
      "metadata": {
        "id": "z10ABpxcaDwK",
        "colab_type": "code",
        "colab": {}
      },
      "source": [
        "# evaluation metrics: accuracy"
      ],
      "execution_count": 0,
      "outputs": []
    },
    {
      "cell_type": "code",
      "metadata": {
        "id": "q5gVbTOHWKem",
        "colab_type": "code",
        "colab": {}
      },
      "source": [
        "columns = ['Club', 'Season', 'GW_Played', 'Goals_Scored', 'Goals_Conceded', \n",
        "           'Goal_Difference', 'Expenditure', 'Income', 'Net', 'Points', \n",
        "           'Points_per_GW', 'Expenditure_per_Point_per_GW', 'Manager', 'Owner', \n",
        "           'Champion', 'Relegated']"
      ],
      "execution_count": 0,
      "outputs": []
    },
    {
      "cell_type": "code",
      "metadata": {
        "id": "3zxEAMidaDwM",
        "colab_type": "code",
        "colab": {}
      },
      "source": [
        "# split data by season\n",
        "\n",
        "train = df[df['Season'] < 2018]\n",
        "val = df[df['Season'] == 2018]\n",
        "test = df[df['Season'] == 2019]"
      ],
      "execution_count": 0,
      "outputs": []
    },
    {
      "cell_type": "code",
      "metadata": {
        "id": "2eXmSdZ2aDwO",
        "colab_type": "code",
        "outputId": "c8fe4e23-c33b-4d07-cc05-eb46b9af2bc0",
        "colab": {
          "base_uri": "https://localhost:8080/",
          "height": 34
        }
      },
      "source": [
        "train.shape, val.shape, test.shape"
      ],
      "execution_count": 11,
      "outputs": [
        {
          "output_type": "execute_result",
          "data": {
            "text/plain": [
              "((460, 16), (20, 16), (20, 16))"
            ]
          },
          "metadata": {
            "tags": []
          },
          "execution_count": 11
        }
      ]
    },
    {
      "cell_type": "code",
      "metadata": {
        "id": "JlRavM2NSXfR",
        "colab_type": "code",
        "colab": {}
      },
      "source": [
        "train.describe(exclude='number').T.sort_values(by='unique')"
      ],
      "execution_count": 0,
      "outputs": []
    },
    {
      "cell_type": "code",
      "metadata": {
        "id": "rN7864i9aDwR",
        "colab_type": "code",
        "colab": {}
      },
      "source": [
        "# null values?\n",
        "df.isna().sum()"
      ],
      "execution_count": 0,
      "outputs": []
    },
    {
      "cell_type": "code",
      "metadata": {
        "id": "rFdnXjzAmdv1",
        "colab_type": "code",
        "colab": {}
      },
      "source": [
        "# assign variables\n",
        "target = 'Champion'\n",
        "features = df.columns.drop([target])\n",
        "\n",
        "X_train = train[features]\n",
        "y_train = train[target]\n",
        "\n",
        "X_val = val[features]\n",
        "y_val = val[target]\n",
        "\n",
        "X_test = test[features]\n",
        "y_test = test[target]"
      ],
      "execution_count": 0,
      "outputs": []
    },
    {
      "cell_type": "code",
      "metadata": {
        "id": "XDoWxyz6gkS2",
        "colab_type": "code",
        "colab": {}
      },
      "source": [
        "# target distribution"
      ],
      "execution_count": 0,
      "outputs": []
    },
    {
      "cell_type": "code",
      "metadata": {
        "id": "ZZF8AKZMg3Z2",
        "colab_type": "code",
        "colab": {}
      },
      "source": [
        "y=df['Champion']"
      ],
      "execution_count": 0,
      "outputs": []
    },
    {
      "cell_type": "code",
      "metadata": {
        "id": "hakSIn7MgnOe",
        "colab_type": "code",
        "colab": {
          "base_uri": "https://localhost:8080/",
          "height": 34
        },
        "outputId": "8660877f-ddfc-46c3-d5c4-835e01116688"
      },
      "source": [
        "y.nunique()"
      ],
      "execution_count": 17,
      "outputs": [
        {
          "output_type": "execute_result",
          "data": {
            "text/plain": [
              "2"
            ]
          },
          "metadata": {
            "tags": []
          },
          "execution_count": 17
        }
      ]
    },
    {
      "cell_type": "code",
      "metadata": {
        "id": "nQi-pVHjg_aD",
        "colab_type": "code",
        "colab": {
          "base_uri": "https://localhost:8080/",
          "height": 34
        },
        "outputId": "6a5269d0-a79b-4d8b-aee8-c9d82c519ef4"
      },
      "source": [
        "y.value_counts(normalize=True).max()"
      ],
      "execution_count": 18,
      "outputs": [
        {
          "output_type": "execute_result",
          "data": {
            "text/plain": [
              "0.952"
            ]
          },
          "metadata": {
            "tags": []
          },
          "execution_count": 18
        }
      ]
    },
    {
      "cell_type": "code",
      "metadata": {
        "id": "xJJZke1xVC_l",
        "colab_type": "code",
        "colab": {}
      },
      "source": [
        "# Features Importance"
      ],
      "execution_count": 0,
      "outputs": []
    },
    {
      "cell_type": "code",
      "metadata": {
        "id": "iiiCHKAYVJzL",
        "colab_type": "code",
        "colab": {
          "base_uri": "https://localhost:8080/",
          "height": 34
        },
        "outputId": "8e61a044-d2a6-4a72-d495-e75ef017597f"
      },
      "source": [
        "pipeline = make_pipeline(\n",
        "    ce.OrdinalEncoder(), \n",
        "    SimpleImputer(strategy='median'), \n",
        "    RandomForestClassifier(n_estimators=100, random_state=42, n_jobs=-1)\n",
        ")\n",
        "\n",
        "# Fit on train, score on val\n",
        "pipeline.fit(X_train, y_train)\n",
        "print('Validation Accuracy', pipeline.score(X_val, y_val))"
      ],
      "execution_count": 20,
      "outputs": [
        {
          "output_type": "stream",
          "text": [
            "Validation Accuracy 0.95\n"
          ],
          "name": "stdout"
        }
      ]
    },
    {
      "cell_type": "code",
      "metadata": {
        "id": "AN8e7LU2mHnp",
        "colab_type": "code",
        "outputId": "d849115d-e0f3-47c7-8de5-48cd3b72db17",
        "colab": {
          "base_uri": "https://localhost:8080/",
          "height": 338
        }
      },
      "source": [
        "rf = pipeline.named_steps['randomforestclassifier']\n",
        "importances = pd.Series(rf.feature_importances_, X_train.columns)\n",
        "\n",
        "# Plot feature importances\n",
        "%matplotlib inline\n",
        "import matplotlib.pyplot as plt\n",
        "\n",
        "n = 10\n",
        "plt.figure(figsize=(10,n/2))\n",
        "plt.title(f'Top {n} features')\n",
        "importances.sort_values()[-n:].plot.barh(color='grey');"
      ],
      "execution_count": 21,
      "outputs": [
        {
          "output_type": "display_data",
          "data": {
            "image/png": "[encoded data removed]",
            "text/plain": [
              "<Figure size 720x360 with 1 Axes>"
            ]
          },
          "metadata": {
            "tags": []
          }
        }
      ]
    },
    {
      "cell_type": "code",
      "metadata": {
        "id": "bLb-ebDVoWpv",
        "colab_type": "code",
        "colab": {}
      },
      "source": [
        "# observation: Goals Scored has a higher importance re Champion"
      ],
      "execution_count": 0,
      "outputs": []
    },
    {
      "cell_type": "code",
      "metadata": {
        "id": "K8suhX5uWAdE",
        "colab_type": "code",
        "colab": {}
      },
      "source": [
        "# The $125m question - RELEGATION"
      ],
      "execution_count": 0,
      "outputs": []
    },
    {
      "cell_type": "code",
      "metadata": {
        "id": "dSyeH813af3R",
        "colab_type": "code",
        "colab": {}
      },
      "source": [
        "target = 'Relegated'\n",
        "features = df.columns.drop([target])\n",
        "\n",
        "X_train = train[features]\n",
        "y_train = train[target]\n",
        "\n",
        "X_val = val[features]\n",
        "y_val = val[target]\n",
        "\n",
        "X_test = test[features]\n",
        "y_test = test[target]"
      ],
      "execution_count": 0,
      "outputs": []
    },
    {
      "cell_type": "code",
      "metadata": {
        "id": "Ld6P6DYIjd4k",
        "colab_type": "code",
        "colab": {
          "base_uri": "https://localhost:8080/",
          "height": 34
        },
        "outputId": "0dd19cbd-3afb-420b-8411-000e5f262080"
      },
      "source": [
        "# target distribution\n",
        "\n",
        "y=df['Relegated']\n",
        "y.nunique()"
      ],
      "execution_count": 25,
      "outputs": [
        {
          "output_type": "execute_result",
          "data": {
            "text/plain": [
              "2"
            ]
          },
          "metadata": {
            "tags": []
          },
          "execution_count": 25
        }
      ]
    },
    {
      "cell_type": "code",
      "metadata": {
        "id": "tEayTArkkDHs",
        "colab_type": "code",
        "colab": {
          "base_uri": "https://localhost:8080/",
          "height": 34
        },
        "outputId": "a0a3dcd6-4f09-4c57-daf7-a7e8e1e51286"
      },
      "source": [
        "y.value_counts(normalize=True).max()"
      ],
      "execution_count": 26,
      "outputs": [
        {
          "output_type": "execute_result",
          "data": {
            "text/plain": [
              "0.856"
            ]
          },
          "metadata": {
            "tags": []
          },
          "execution_count": 26
        }
      ]
    },
    {
      "cell_type": "code",
      "metadata": {
        "id": "vrWkMzEKbA2o",
        "colab_type": "code",
        "colab": {}
      },
      "source": [
        "# Features Importance"
      ],
      "execution_count": 0,
      "outputs": []
    },
    {
      "cell_type": "code",
      "metadata": {
        "id": "sBLynAcN-3Hh",
        "colab_type": "code",
        "colab": {
          "base_uri": "https://localhost:8080/",
          "height": 34
        },
        "outputId": "383404ad-40b5-4188-f791-93439159d628"
      },
      "source": [
        "pipeline = make_pipeline(\n",
        "    ce.OrdinalEncoder(), \n",
        "    SimpleImputer(strategy='median'), \n",
        "    RandomForestClassifier(n_estimators=100, random_state=42, n_jobs=-1)\n",
        ")\n",
        "\n",
        "# Fit on train, score on val\n",
        "pipeline.fit(X_train, y_train)\n",
        "print('Validation Accuracy', pipeline.score(X_val, y_val))"
      ],
      "execution_count": 28,
      "outputs": [
        {
          "output_type": "stream",
          "text": [
            "Validation Accuracy 1.0\n"
          ],
          "name": "stdout"
        }
      ]
    },
    {
      "cell_type": "code",
      "metadata": {
        "id": "0J_gFALia-oq",
        "colab_type": "code",
        "colab": {
          "base_uri": "https://localhost:8080/",
          "height": 338
        },
        "outputId": "434b58e6-fb92-42df-d09e-fc53ae18d77e"
      },
      "source": [
        "\n",
        "rf = pipeline.named_steps['randomforestclassifier']\n",
        "importances = pd.Series(rf.feature_importances_, X_train.columns)\n",
        "\n",
        "# Plot feature importances\n",
        "%matplotlib inline\n",
        "import matplotlib.pyplot as plt\n",
        "\n",
        "n = 10\n",
        "plt.figure(figsize=(10,n/2))\n",
        "plt.title(f'Top {n} features')\n",
        "importances.sort_values()[-n:].plot.barh(color='grey');"
      ],
      "execution_count": 29,
      "outputs": [
        {
          "output_type": "display_data",
          "data": {
            "image/png": "[encoded data removed]",
            "text/plain": [
              "<Figure size 720x360 with 1 Axes>"
            ]
          },
          "metadata": {
            "tags": []
          }
        }
      ]
    },
    {
      "cell_type": "code",
      "metadata": {
        "id": "AQtHaUr9lDEr",
        "colab_type": "code",
        "colab": {}
      },
      "source": [
        "# observation: Goals Conceded (defense) has a higher importance re Relegation"
      ],
      "execution_count": 0,
      "outputs": []
    },
    {
      "cell_type": "markdown",
      "metadata": {
        "id": "LFle7uqcaC3B",
        "colab_type": "text"
      },
      "source": [
        "\"Richard Battle, senior manager in the sports group at Deloitte, stated that the main reason that playoff finals are worth so much is because of the rising TV broadcast deals in the Premier League. Furthermore, most of the rising payments has to also do with the rising financial gulf in the Premier League, with a team finishing in the bottom half of the table receiving £95m to £100m from TV money alone.\""
      ]
    }
  ]
}